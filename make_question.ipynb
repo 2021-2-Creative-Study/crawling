{
 "cells": [
  {
   "cell_type": "markdown",
   "source": [
    "# Make Question for each 'Lecture Review'\r\n",
    "\r\n",
    "- 모든 lecture review들은 chatbot 학습을 위해 '질문'과 대응을 이루어야 한다."
   ],
   "metadata": {}
  },
  {
   "cell_type": "code",
   "execution_count": 22,
   "source": [
    "def extractName(fname:str):\r\n",
    "    lecture_name = fname.split(\"\\\\\")[-1].split(\"_\")[0]\r\n",
    "    professor_name = fname.split('\\\\')[-1].split(\"_\")[1].split(\".\")[0]\r\n",
    "    return lecture_name, professor_name\r\n",
    "\r\n",
    "def createNameEq(lectureNameEq:str):\r\n",
    "    for lname in lectureNameEq.keys():\r\n",
    "        if \"K-MOOC\" in lname:\r\n",
    "            lectureNameEq[lname] = [\"웨어러블\", \"케이묵 웨어러블\"]\r\n",
    "        elif \"고급C\" in lname:\r\n",
    "            lectureNameEq[lname] = [\"고급C\", \"고급C언어\", \"고급씨\"]\r\n",
    "        elif \"공업\" in lname:\r\n",
    "            lectureNameEq[lname] = [\"공수1\"]\r\n",
    "        elif \"디지털시스템\" in lname:\r\n",
    "            lectureNameEq[lname] = [\"디시\"]\r\n",
    "        elif \"C프로그래밍\" in lname:\r\n",
    "            lectureNameEq[lname] = [\"C언어\", \"C\", \"씨언어\"]\r\n",
    "        elif \"동적시스템\" in lname:\r\n",
    "            lectureNameEq[lname] = [\"동적시스템\"]\r\n",
    "        elif \"C++\" in lname:\r\n",
    "            lectureNameEq[lname] = [\"C++\", \"문제해결C++\", \"씨쁠쁠\"]\r\n",
    "        elif \"English\" in lname:\r\n",
    "            lectureNameEq[lname] = [\"elp1\", \"이엘피1\"]\r\n",
    "        elif \"물리전자\" in lname:\r\n",
    "            lectureNameEq[lname] = [\"물전\", \"물리전자\"]\r\n",
    "        elif \"JAVA\" in lname:\r\n",
    "            lectureNameEq[lname] = [\"자바\", \"java\"]\r\n",
    "        elif \"문제해결\" in lname:\r\n",
    "            lectureNameEq[lname] = [\"문쓰발\"]\r\n",
    "        elif \"신호처리\" in lname:\r\n",
    "            lectureNameEq[lname] = [\"디신처\", \"신호처리\"]\r\n",
    "        else:\r\n",
    "            lectureNameEq[lname] = \"None\"\r\n",
    "    \r\n",
    "    return lectureNameEq"
   ],
   "outputs": [],
   "metadata": {}
  },
  {
   "cell_type": "code",
   "execution_count": 23,
   "source": [
    "import glob\r\n",
    "from tqdm.notebook import tqdm\r\n",
    "import pandas as pd\r\n",
    "\r\n",
    "fileList = glob.glob('./lecture_review_noQuestion/*_*.xls')\r\n",
    "\r\n",
    "lectureNameList = []\r\n",
    "\r\n",
    "print(\"=====\"*6)\r\n",
    "print(\"Creating Lecture Name Equivalents...\")\r\n",
    "for fname in tqdm(fileList):\r\n",
    "    review = pd.read_excel(fname)\r\n",
    "    lecture_name, _ = extractName(fname)\r\n",
    "    lectureNameList.append(lecture_name)\r\n",
    "\r\n",
    "lectureNameList = list(set(lectureNameList))\r\n",
    "lectureNameEq = dict.fromkeys(lectureNameList)\r\n",
    "lectureNameEq = createNameEq(lectureNameEq)\r\n",
    "\r\n",
    "print(\"=====\"*6)\r\n",
    "print(\"Creating Questions...\")\r\n",
    "for fname in tqdm(fileList):\r\n",
    "    lecture_review = pd.read_excel(fname)\r\n",
    "    review_len = len(lecture_review)\r\n",
    "    lecture_name, professor_name = extractName(fname)\r\n",
    "    review_base = lecture_review.copy()\r\n",
    "    cur = 0\r\n",
    "\r\n",
    "    # 정식 명칭 외에 더 편하게 부르는 변형된 이름이 존재하는 경우\r\n",
    "    # 해당 명칭으로 질문 생성\r\n",
    "    if lectureNameEq[lecture_name] != \"None\":\r\n",
    "        for eqName in lectureNameEq[lecture_name]:\r\n",
    "\r\n",
    "            lecture_review = pd.concat([lecture_review, review_base], ignore_index=True)\r\n",
    "            lecture_review.Q.loc[cur:cur+review_len] = professor_name + \"교수님 \" + eqName + \" 수업 어때?\"\r\n",
    "            cur += review_len\r\n",
    "\r\n",
    "            lecture_review = pd.concat([lecture_review, review_base], ignore_index=True)\r\n",
    "            lecture_review.Q.loc[cur:cur+review_len] = eqName + \" 수업 \" + professor_name + \" 교수님꺼 어때?\"\r\n",
    "            cur += review_len\r\n",
    "\r\n",
    "            lecture_review = pd.concat([lecture_review, review_base], ignore_index=True)\r\n",
    "            lecture_review.Q.loc[cur:cur+review_len] = eqName + \" \" + professor_name\r\n",
    "            cur += review_len\r\n",
    "\r\n",
    "            lecture_review = pd.concat([lecture_review, review_base], ignore_index=True)\r\n",
    "            lecture_review.Q.loc[cur:cur+review_len] = professor_name + \" \" + eqName + \" 들을만해?\"\r\n",
    "            cur += review_len\r\n",
    "\r\n",
    "    \r\n",
    "    # 정식 명칭으로 된 질문 생성\r\n",
    "    lecture_review = pd.concat([lecture_review, review_base], ignore_index=True)\r\n",
    "    lecture_review.Q.loc[cur:cur+review_len] = professor_name + \"교수님 \" + lecture_name + \" 수업 어때?\"\r\n",
    "    cur += review_len\r\n",
    "\r\n",
    "    lecture_review = pd.concat([lecture_review, review_base], ignore_index=True)\r\n",
    "    lecture_review.Q.loc[cur:cur+review_len] = lecture_name + \" 수업 \" + professor_name + \" 교수님꺼 어때?\"\r\n",
    "    cur += review_len\r\n",
    "\r\n",
    "    lecture_review = pd.concat([lecture_review, review_base], ignore_index=True)\r\n",
    "    lecture_review.Q.loc[cur:cur+review_len] = lecture_name + \" \" + professor_name\r\n",
    "    cur += review_len\r\n",
    "\r\n",
    "    lecture_review = pd.concat([lecture_review, review_base], ignore_index=True)\r\n",
    "    lecture_review.Q.loc[cur:cur+review_len] = professor_name + \" \" + lecture_name + \" 들을만해?\"\r\n",
    "    \r\n",
    "\r\n",
    "    lecture_review.to_excel(\"./lecture_review_withQuestion/\" + lecture_name + \"_\" + professor_name + \".xls\", index=False)"
   ],
   "outputs": [
    {
     "output_type": "stream",
     "name": "stdout",
     "text": [
      "==============================\n",
      "Creating Lecture Name Equivalents...\n"
     ]
    },
    {
     "output_type": "display_data",
     "data": {
      "application/vnd.jupyter.widget-view+json": {
       "version_major": 2,
       "version_minor": 0,
       "model_id": "6a9295c783d64e15886455e065807cfd"
      },
      "text/plain": [
       "  0%|          | 0/42 [00:00<?, ?it/s]"
      ]
     },
     "metadata": {}
    },
    {
     "output_type": "stream",
     "name": "stdout",
     "text": [
      "==============================\n",
      "Creating Questions...\n"
     ]
    },
    {
     "output_type": "display_data",
     "data": {
      "application/vnd.jupyter.widget-view+json": {
       "version_major": 2,
       "version_minor": 0,
       "model_id": "c90ebfe6f1b64a9db594ad2bd286a6f9"
      },
      "text/plain": [
       "  0%|          | 0/42 [00:00<?, ?it/s]"
      ]
     },
     "metadata": {}
    },
    {
     "output_type": "stream",
     "name": "stderr",
     "text": [
      "C:\\Users\\marti\\anaconda3\\envs\\py38\\lib\\site-packages\\pandas\\core\\indexing.py:1637: SettingWithCopyWarning: \n",
      "A value is trying to be set on a copy of a slice from a DataFrame\n",
      "\n",
      "See the caveats in the documentation: https://pandas.pydata.org/pandas-docs/stable/user_guide/indexing.html#returning-a-view-versus-a-copy\n",
      "  self._setitem_single_block(indexer, value, name)\n",
      "<ipython-input-23-6f38e6cfe94a>:68: FutureWarning: As the xlwt package is no longer maintained, the xlwt engine will be removed in a future version of pandas. This is the only engine in pandas that supports writing in the xls format. Install openpyxl and write to an xlsx file instead. You can set the option io.excel.xls.writer to 'xlwt' to silence this warning. While this option is deprecated and will also raise a warning, it can be globally set and the warning suppressed.\n",
      "  lecture_review.to_excel(\"./lecture_review_withQuestion/\" + lecture_name + \"_\" + professor_name + \".xls\", index=False)\n"
     ]
    }
   ],
   "metadata": {}
  }
 ],
 "metadata": {
  "orig_nbformat": 4,
  "language_info": {
   "name": "python",
   "version": "3.8.8",
   "mimetype": "text/x-python",
   "codemirror_mode": {
    "name": "ipython",
    "version": 3
   },
   "pygments_lexer": "ipython3",
   "nbconvert_exporter": "python",
   "file_extension": ".py"
  },
  "kernelspec": {
   "name": "python3",
   "display_name": "Python 3.8.8 64-bit ('py38': conda)"
  },
  "interpreter": {
   "hash": "33a3111211be4281f3a8c4a9b25563b8d253df502c7e31f5318895c1792a97cb"
  }
 },
 "nbformat": 4,
 "nbformat_minor": 2
}