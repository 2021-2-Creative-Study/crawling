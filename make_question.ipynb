{
 "cells": [
  {
   "cell_type": "markdown",
   "source": [
    "# Make Question for each 'Lecture Review'\r\n",
    "\r\n",
    "- 모든 lecture review들은 chatbot 학습을 위해 '질문'과 대응을 이루어야 한다."
   ],
   "metadata": {}
  },
  {
   "cell_type": "code",
   "execution_count": 19,
   "source": [
    "def extractName(fname:str):\r\n",
    "    lecture_name = fname.split(\"\\\\\")[-1].split(\"_\")[0]\r\n",
    "    professor_name = fname.split('\\\\')[-1].split(\"_\")[1].split(\".\")[0]\r\n",
    "    return lecture_name, professor_name"
   ],
   "outputs": [],
   "metadata": {}
  },
  {
   "cell_type": "code",
   "execution_count": 40,
   "source": [
    "import glob\r\n",
    "from tqdm.notebook import tqdm\r\n",
    "import pandas as pd\r\n",
    "\r\n",
    "fileList = glob.glob('./lecture_review_noQuestion/*_*.xls')\r\n",
    "\r\n",
    "for fname in tqdm(fileList):\r\n",
    "    lecture_review = pd.read_excel(fname)\r\n",
    "    review_len = len(lecture_review)\r\n",
    "    lecture_name, professor_name = extractName(fname)\r\n",
    "\r\n",
    "    lecture_review = pd.concat([lecture_review, lecture_review, lecture_review, lecture_review], ignore_index=True)\r\n",
    "\r\n",
    "    lecture_review.Q.loc[0:review_len] = professor_name + \"교수님 \" + lecture_name + \" 수업 어때?\"\r\n",
    "    lecture_review.Q.loc[review_len:2*review_len-1] = lecture_name + \" 수업 \" + professor_name + \" 교수님꺼 어때?\"\r\n",
    "\r\n",
    "    lecture_review.to_excel(\"./lecture_review_withQuestion/\" + lecture_name + \"_\" + professor_name + \".xls\", index=False)\r\n",
    "     "
   ],
   "outputs": [
    {
     "output_type": "display_data",
     "data": {
      "application/vnd.jupyter.widget-view+json": {
       "version_major": 2,
       "version_minor": 0,
       "model_id": "37eb8acd492e40ee86ccff2c292c20dc"
      },
      "text/plain": [
       "  0%|          | 0/42 [00:00<?, ?it/s]"
      ]
     },
     "metadata": {}
    },
    {
     "output_type": "stream",
     "name": "stderr",
     "text": [
      "C:\\Users\\marti\\anaconda3\\envs\\py38\\lib\\site-packages\\pandas\\core\\indexing.py:1637: SettingWithCopyWarning: \n",
      "A value is trying to be set on a copy of a slice from a DataFrame\n",
      "\n",
      "See the caveats in the documentation: https://pandas.pydata.org/pandas-docs/stable/user_guide/indexing.html#returning-a-view-versus-a-copy\n",
      "  self._setitem_single_block(indexer, value, name)\n",
      "<ipython-input-40-15ffd45f3adb>:17: FutureWarning: As the xlwt package is no longer maintained, the xlwt engine will be removed in a future version of pandas. This is the only engine in pandas that supports writing in the xls format. Install openpyxl and write to an xlsx file instead. You can set the option io.excel.xls.writer to 'xlwt' to silence this warning. While this option is deprecated and will also raise a warning, it can be globally set and the warning suppressed.\n",
      "  lecture_review.to_excel(\"./lecture_review_withQuestion/\" + lecture_name + \"_\" + professor_name + \".xls\", index=False)\n"
     ]
    }
   ],
   "metadata": {}
  }
 ],
 "metadata": {
  "orig_nbformat": 4,
  "language_info": {
   "name": "python",
   "version": "3.8.8",
   "mimetype": "text/x-python",
   "codemirror_mode": {
    "name": "ipython",
    "version": 3
   },
   "pygments_lexer": "ipython3",
   "nbconvert_exporter": "python",
   "file_extension": ".py"
  },
  "kernelspec": {
   "name": "python3",
   "display_name": "Python 3.8.8 64-bit ('py38': conda)"
  },
  "interpreter": {
   "hash": "33a3111211be4281f3a8c4a9b25563b8d253df502c7e31f5318895c1792a97cb"
  }
 },
 "nbformat": 4,
 "nbformat_minor": 2
}